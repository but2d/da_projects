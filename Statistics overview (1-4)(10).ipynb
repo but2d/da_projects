{
 "cells": [
  {
   "cell_type": "markdown",
   "metadata": {},
   "source": [
    "# First page"
   ]
  },
  {
   "cell_type": "markdown",
   "metadata": {},
   "source": [
    "##### Link with helpful notebooks: "
   ]
  },
  {
   "cell_type": "code",
   "execution_count": 5,
   "metadata": {
    "collapsed": true
   },
   "outputs": [],
   "source": [
    "import webbrowser"
   ]
  },
  {
   "cell_type": "code",
   "execution_count": 4,
   "metadata": {
    "collapsed": false
   },
   "outputs": [
    {
     "data": {
      "text/plain": [
       "True"
      ]
     },
     "execution_count": 4,
     "metadata": {},
     "output_type": "execute_result"
    }
   ],
   "source": [
    "url = 'http://nbviewer.ipython.org/github/jmportilla/Statistics-Notes/tree/master/'\n",
    "webbrowser.open(url)"
   ]
  },
  {
   "cell_type": "markdown",
   "metadata": {},
   "source": [
    "##### List of LaTeX math symbols:"
   ]
  },
  {
   "cell_type": "code",
   "execution_count": 67,
   "metadata": {
    "collapsed": false
   },
   "outputs": [
    {
     "data": {
      "text/plain": [
       "True"
      ]
     },
     "execution_count": 67,
     "metadata": {},
     "output_type": "execute_result"
    }
   ],
   "source": [
    "url = 'https://oeis.org/wiki/List_of_LaTeX_mathematical_symbols'\n",
    "webbrowser.open(url)"
   ]
  },
  {
   "cell_type": "markdown",
   "metadata": {},
   "source": [
    "# Second page"
   ]
  },
  {
   "cell_type": "markdown",
   "metadata": {},
   "source": [
    "## Discrete Uniform Distributions"
   ]
  },
  {
   "cell_type": "markdown",
   "metadata": {},
   "source": [
    "### Definition for discrete uniform distributions:"
   ]
  },
  {
   "cell_type": "markdown",
   "metadata": {},
   "source": [
    "A random variable X has a discrete uniform distribution \n",
    "    if each of the n values in it's range x1, x2, x3... xn \n",
    "        has equal probability:"
   ]
  },
  {
   "cell_type": "markdown",
   "metadata": {},
   "source": [
    "$$\n",
    "f(x_i) = \\frac{1}{n}\n",
    "$$"
   ]
  },
  {
   "cell_type": "markdown",
   "metadata": {},
   "source": [
    "Let's show simple example with Python:"
   ]
  },
  {
   "cell_type": "code",
   "execution_count": 12,
   "metadata": {
    "collapsed": false
   },
   "outputs": [],
   "source": [
    "import numpy as np\n",
    "from numpy.random import randn\n",
    "import pandas as pd\n",
    "from scipy import stats\n",
    "import matplotlib as mpl\n",
    "import matplotlib.pyplot as plt\n",
    "import seaborn as sns\n",
    "%matplotlib inline"
   ]
  },
  {
   "cell_type": "markdown",
   "metadata": {},
   "source": [
    "Now let's set up a dice roll:"
   ]
  },
  {
   "cell_type": "code",
   "execution_count": 13,
   "metadata": {
    "collapsed": false
   },
   "outputs": [
    {
     "data": {
      "text/plain": [
       "Text(0.5, 1.0, 'Probability Mass Fuction for Dice Roll')"
      ]
     },
     "execution_count": 13,
     "metadata": {},
     "output_type": "execute_result"
    },
    {
     "data": {
      "image/png": "[encoded data removed]",
      "text/plain": [
       "<Figure size 432x288 with 1 Axes>"
      ]
     },
     "metadata": {},
     "output_type": "display_data"
    }
   ],
   "source": [
    "roll_options = [1,2,3,4,5,6]\n",
    "\n",
    "t_prob = 1 # total probability\n",
    "\n",
    "prob_roll = t_prob / len(roll_options)\n",
    "\n",
    "uni_plot = sns.rugplot(roll_options, height=prob_roll, \n",
    "                       c='indianred')\n",
    "\n",
    "uni_plot.set_title('Probability Mass Fuction for Dice Roll')"
   ]
  },
  {
   "cell_type": "markdown",
   "metadata": {},
   "source": [
    "We can see: f(x) value equal to 1/(Total Possible Outcomes)."
   ]
  },
  {
   "cell_type": "markdown",
   "metadata": {},
   "source": [
    "Let's find the mean and variance of this uniform distribution."
   ]
  },
  {
   "cell_type": "markdown",
   "metadata": {
    "collapsed": true
   },
   "source": [
    "The mean is the max and min divided by two:"
   ]
  },
  {
   "cell_type": "markdown",
   "metadata": {
    "collapsed": true
   },
   "source": [
    "$$\n",
    "\\mu = \\frac{b+a}{2}\n",
    "$$"
   ]
  },
  {
   "cell_type": "markdown",
   "metadata": {
    "collapsed": true
   },
   "source": [
    "With a variance of:"
   ]
  },
  {
   "cell_type": "markdown",
   "metadata": {
    "collapsed": true
   },
   "source": [
    "$$\n",
    "\\sigma^2 = \\frac{(b-a+1)^2-1)}{12}\n",
    "$$"
   ]
  },
  {
   "cell_type": "markdown",
   "metadata": {
    "collapsed": true
   },
   "source": [
    "Let's create a Discrete Uniform Distribution using Scipy"
   ]
  },
  {
   "cell_type": "code",
   "execution_count": 11,
   "metadata": {
    "collapsed": false
   },
   "outputs": [
    {
     "name": "stdout",
     "output_type": "stream",
     "text": [
      "The mean is 3.5;\n",
      "The var is 2.9166666666666665\n"
     ]
    }
   ],
   "source": [
    "from scipy.stats import randint\n",
    "\n",
    "low, high = 1, 7\n",
    "\n",
    "mean, var = randint.stats(low, high)\n",
    "\n",
    "print('The mean is {};\\nThe var is {}'.format(mean, var))"
   ]
  },
  {
   "cell_type": "code",
   "execution_count": 14,
   "metadata": {
    "collapsed": false
   },
   "outputs": [
    {
     "data": {
      "text/plain": [
       "<BarContainer object of 6 artists>"
      ]
     },
     "execution_count": 14,
     "metadata": {},
     "output_type": "execute_result"
    },
    {
     "data": {
      "image/png": "[encoded data removed]",
      "text/plain": [
       "<Figure size 432x288 with 1 Axes>"
      ]
     },
     "metadata": {},
     "output_type": "display_data"
    }
   ],
   "source": [
    "plt.bar(roll_options, randint.pmf(roll_options, low, high))"
   ]
  },
  {
   "cell_type": "markdown",
   "metadata": {
    "collapsed": true
   },
   "source": [
    "### Real world use: German Tank Problem"
   ]
  },
  {
   "cell_type": "markdown",
   "metadata": {
    "collapsed": true
   },
   "source": [
    "Let's solve the famous *German Tank Problem*:"
   ]
  },
  {
   "cell_type": "code",
   "execution_count": 16,
   "metadata": {
    "collapsed": false
   },
   "outputs": [
    {
     "data": {
      "text/plain": [
       "True"
      ]
     },
     "execution_count": 16,
     "metadata": {},
     "output_type": "execute_result"
    }
   ],
   "source": [
    "url = 'https://en.wikipedia.org/wiki/German_tank_problem'\n",
    "webbrowser.open(url)"
   ]
  },
  {
   "cell_type": "markdown",
   "metadata": {
    "collapsed": true
   },
   "source": [
    "For example, let’s say 10 tanks were captured/destroyed, \n",
    "    and the following serial numbers were obtained:\n",
    "        117, 232, 122, 173, 167, 12, 168, 204, 4, 229.\n",
    "\n",
    "How many tanks were produced?"
   ]
  },
  {
   "cell_type": "raw",
   "metadata": {
    "collapsed": true
   },
   "source": [
    "The formula is the following:"
   ]
  },
  {
   "cell_type": "markdown",
   "metadata": {
    "collapsed": true
   },
   "source": [
    "$$\n",
    "\\mathbb{S} = m + \\frac{m}{n} - 1\n",
    "$$"
   ]
  },
  {
   "cell_type": "markdown",
   "metadata": {
    "collapsed": true
   },
   "source": [
    "where m is the highest sampled serial number and n is the sample size."
   ]
  },
  {
   "cell_type": "code",
   "execution_count": 19,
   "metadata": {
    "collapsed": true
   },
   "outputs": [],
   "source": [
    "tank_list = [117, 232, 122, 173, 167, 12, 168, 204, 4, 229]\n",
    "\n",
    "assert len(tank_list) == 10"
   ]
  },
  {
   "cell_type": "code",
   "execution_count": 25,
   "metadata": {
    "collapsed": false
   },
   "outputs": [
    {
     "name": "stdout",
     "output_type": "stream",
     "text": [
      "There are 254 german tanks.\n"
     ]
    }
   ],
   "source": [
    "m = max(tank_list)\n",
    "\n",
    "n = len(tank_list)\n",
    "\n",
    "tank_S = m + m/n - 1\n",
    "\n",
    "print('There are {} german tanks.'.format(round(tank_S)))"
   ]
  },
  {
   "cell_type": "markdown",
   "metadata": {
    "collapsed": true
   },
   "source": [
    "# Third page"
   ]
  },
  {
   "cell_type": "markdown",
   "metadata": {
    "collapsed": true
   },
   "source": [
    "## Continuous Uniform Distributions"
   ]
  },
  {
   "cell_type": "markdown",
   "metadata": {
    "collapsed": true
   },
   "source": [
    "#### Data can't be divided into discrete components."
   ]
  },
  {
   "cell_type": "markdown",
   "metadata": {
    "collapsed": true
   },
   "source": [
    "A continuous random variable X \n",
    "    with a probabilty density function \n",
    "        is a continous uniform random variable when:"
   ]
  },
  {
   "cell_type": "markdown",
   "metadata": {
    "collapsed": true
   },
   "source": [
    "$$\n",
    "f(x) = \\frac{1}{(b-a)}\n",
    "$$\n",
    "\n",
    "$$\n",
    "a <= x <= b\n",
    "$$"
   ]
  },
  {
   "cell_type": "markdown",
   "metadata": {
    "collapsed": true
   },
   "source": [
    "The mean is simply the average of the min and max:"
   ]
  },
  {
   "cell_type": "markdown",
   "metadata": {
    "collapsed": true
   },
   "source": [
    "$$\n",
    "\\frac{(a + b)}{2}\n",
    "$$"
   ]
  },
  {
   "cell_type": "markdown",
   "metadata": {
    "collapsed": true
   },
   "source": [
    "The variance if defined as:"
   ]
  },
  {
   "cell_type": "markdown",
   "metadata": {
    "collapsed": true
   },
   "source": [
    "$$\n",
    "\\sigma^2 = \\frac{(b-a)^2}{12}\n",
    "$$"
   ]
  },
  {
   "cell_type": "markdown",
   "metadata": {},
   "source": [
    "Example problem.\n",
    "\n",
    "On average, a taxi ride in NYC takes 22 minutes.\n",
    "We gather that all the taxi rides \n",
    "    are uniformly distributed between 19 and 27 minutes.\n",
    "    \n",
    "What is the probability density function of a taxi ride, of f(x)?"
   ]
  },
  {
   "cell_type": "code",
   "execution_count": 34,
   "metadata": {
    "collapsed": false
   },
   "outputs": [
    {
     "name": "stdout",
     "output_type": "stream",
     "text": [
      "The probability density func results in 0.125.\n"
     ]
    }
   ],
   "source": [
    "lower_bound = 19\n",
    "\n",
    "upper_bound = 27\n",
    "\n",
    "fx = 1.0/(upper_bound - lower_bound)\n",
    "\n",
    "print('The probability density func results in {}.'.format(round(fx, 3)))"
   ]
  },
  {
   "cell_type": "code",
   "execution_count": 39,
   "metadata": {
    "collapsed": false
   },
   "outputs": [
    {
     "name": "stdout",
     "output_type": "stream",
     "text": [
      "The variance of the continuous uniform distribution is 5.3.\n"
     ]
    }
   ],
   "source": [
    "var = ((upper_bound - lower_bound)**2) / 12\n",
    "\n",
    "print('The variance of the continuous uniform distribution is {}.'.\n",
    "      format(round(var, 1)))"
   ]
  },
  {
   "cell_type": "markdown",
   "metadata": {},
   "source": [
    "What's the prob-ty that the taxi ride will last **at least** 25 min?"
   ]
  },
  {
   "cell_type": "code",
   "execution_count": 45,
   "metadata": {
    "collapsed": false
   },
   "outputs": [
    {
     "name": "stdout",
     "output_type": "stream",
     "text": [
      "The prob-ty that the taxi ride will last at least 25 min is 25%.\n"
     ]
    }
   ],
   "source": [
    "fx_1 = 27.0/(upper_bound-lower_bound) # fx(27)\n",
    "\n",
    "fx_2 = 25.0/(upper_bound-lower_bound) # fx(25)\n",
    "\n",
    "ans = fx_1 - fx_2\n",
    "\n",
    "print('The prob-ty that the taxi ride will last at least 25 min is {}%.'.\n",
    "     format(int(ans*100)))"
   ]
  },
  {
   "cell_type": "markdown",
   "metadata": {},
   "source": [
    "Now let's see how to do this automatically with scipy:"
   ]
  },
  {
   "cell_type": "code",
   "execution_count": 46,
   "metadata": {
    "collapsed": false
   },
   "outputs": [
    {
     "data": {
      "text/plain": [
       "[<matplotlib.lines.Line2D at 0x1b48aef0>]"
      ]
     },
     "execution_count": 46,
     "metadata": {},
     "output_type": "execute_result"
    },
    {
     "data": {
      "image/png": "[encoded data removed]",
      "text/plain": [
       "<Figure size 432x288 with 1 Axes>"
      ]
     },
     "metadata": {},
     "output_type": "display_data"
    }
   ],
   "source": [
    "from scipy.stats import uniform\n",
    "import numpy\n",
    "\n",
    "A = 0\n",
    "B = 5\n",
    "\n",
    "x = np.linspace(A, B, 100) # array with points between A and B\n",
    "rv = uniform(loc=A, scale=B)\n",
    "\n",
    "plt.plot(x, rv.pdf(x))"
   ]
  },
  {
   "cell_type": "markdown",
   "metadata": {},
   "source": [
    "# Fourth page"
   ]
  },
  {
   "cell_type": "markdown",
   "metadata": {},
   "source": [
    "## Binominal Distribution"
   ]
  },
  {
   "cell_type": "markdown",
   "metadata": {},
   "source": [
    "#### Binominal is a specific type of a discrete probability distribution."
   ]
  },
  {
   "cell_type": "markdown",
   "metadata": {},
   "source": [
    "Let's see an example first:"
   ]
  },
  {
   "cell_type": "markdown",
   "metadata": {},
   "source": [
    "Two players are playing basketball, player A and player B.\n",
    "\n",
    "Player A takes an average of 11 shots per game,\n",
    "    and has an average success rate of 72%.\n",
    "\n",
    "Player B takes an average of 15 shots per game,\n",
    "    but has an average success rate of 48%.\n",
    "    \n",
    "Question 1: What's the probability that Player A \n",
    "    makes 6 shots in an average game?\n",
    "\n",
    "Question 2: What's the probability that Player B\n",
    "    makes 6 shots in an average game?"
   ]
  },
  {
   "cell_type": "markdown",
   "metadata": {},
   "source": [
    "We can classify this as binominal experiment \n",
    "    if the following conditions are met:\n",
    "    \n",
    "    1. The process consists of a sequence of n trials;\n",
    "    \n",
    "    2. Only two exclusive outcomes are possible for each trial\n",
    "        (A success and A failure);\n",
    "    \n",
    "    3. If the probability of a success is 'p' \n",
    "        then the probability of failure is q = 1-p;\n",
    "        \n",
    "    4. The trials are independent.   "
   ]
  },
  {
   "cell_type": "markdown",
   "metadata": {},
   "source": [
    "The formula for a Binominal Distribution Probability \n",
    "    Mass Function turns out to be:"
   ]
  },
  {
   "cell_type": "markdown",
   "metadata": {},
   "source": [
    "$$\n",
    "Pr(X = k) = C(n, k)*p^k*(1-p)^{n-k}\n",
    "$$"
   ]
  },
  {
   "cell_type": "markdown",
   "metadata": {},
   "source": [
    "where: \n",
    "\n",
    "    n = number of trials, \n",
    "    \n",
    "    k = number of successes, \n",
    "    \n",
    "    p = probability of success, \n",
    "    \n",
    "    1-p = probability of failure (often written as q=1-p)."
   ]
  },
  {
   "cell_type": "markdown",
   "metadata": {},
   "source": [
    "Ths means that to get exactly 'k' successes in 'n' trials\n",
    "    we want exactly 'k' successes:"
   ]
  },
  {
   "cell_type": "markdown",
   "metadata": {},
   "source": [
    "$$\n",
    "p^k\n",
    "$$"
   ]
  },
  {
   "cell_type": "markdown",
   "metadata": {},
   "source": [
    "and we want 'n-k' failures:"
   ]
  },
  {
   "cell_type": "markdown",
   "metadata": {},
   "source": [
    "$$\n",
    "(1-p)^{n-k}\n",
    "$$"
   ]
  },
  {
   "cell_type": "markdown",
   "metadata": {},
   "source": [
    "Then finally, there are"
   ]
  },
  {
   "cell_type": "markdown",
   "metadata": {},
   "source": [
    "$$\n",
    "C(n, k)\n",
    "$$"
   ]
  },
  {
   "cell_type": "markdown",
   "metadata": {},
   "source": [
    "ways of putting 'k' successes in 'n' trials.\n",
    "        \n",
    "So we multiply all these together \n",
    "    to get the probability of exactly that \n",
    "        many success and failures in those **n** trials!"
   ]
  },
  {
   "cell_type": "markdown",
   "metadata": {},
   "source": [
    " "
   ]
  },
  {
   "cell_type": "markdown",
   "metadata": {},
   "source": [
    "Quick note, **C(n,k)** refers to the number \n",
    "        of possible combinations of **n** things \n",
    "            taken **k** at a time."
   ]
  },
  {
   "cell_type": "markdown",
   "metadata": {},
   "source": [
    "This is also equal to:"
   ]
  },
  {
   "cell_type": "markdown",
   "metadata": {},
   "source": [
    "$$\n",
    "C(n, k) = \\frac{n!}{k!(n-k)!}\n",
    "$$"
   ]
  },
  {
   "cell_type": "markdown",
   "metadata": {},
   "source": [
    "### Let's try out the example problem!"
   ]
  },
  {
   "cell_type": "code",
   "execution_count": 64,
   "metadata": {
    "collapsed": false
   },
   "outputs": [
    {
     "name": "stdout",
     "output_type": "stream",
     "text": [
      "The probability of player A making 6 shots in an average game is 11.1%.\n",
      "\n",
      "The probability of player B making 6 shots in an average game is 17.0%.\n"
     ]
    }
   ],
   "source": [
    "p_A = .72 # prob success for A\n",
    "\n",
    "n_A = 11 # number of shots for A\n",
    "\n",
    "k = 6 \n",
    "\n",
    "import scipy.special as sc # scipy for combination\n",
    "\n",
    "comb_A = sc.comb(n_A, k)\n",
    "\n",
    "answer_A = comb_A * (p_A**k) * ((1-p_A)**(n_A-k))\n",
    "\n",
    "answer_A = 100*answer_A\n",
    "\n",
    "p_B = .48\n",
    "n_B = 15\n",
    "comb_B = sc.comb(n_B, k)\n",
    "answer_B = comb_B * (p_B**k) * ((1-p_B)**(n_B-k)) * 100\n",
    "\n",
    "print('The probability of player A ' \n",
    "      'making 6 shots in an average game is {}%.\\n'.format(round(answer_A, 1)))\n",
    "\n",
    "print('The probability of player B '\n",
    "      'making 6 shots in an average game is {}%.'.format(round(answer_B, 1)))"
   ]
  },
  {
   "cell_type": "markdown",
   "metadata": {},
   "source": [
    "Even though player B is technically a worse shooter,\n",
    "    he will have a higher chance of making 6 shots in an average game!"
   ]
  },
  {
   "cell_type": "markdown",
   "metadata": {},
   "source": [
    "But wait a minute... Maybe player A \n",
    "    will have stronger effect in a higher amount of shots.\n",
    "   \n",
    "What's the probability of making 9 shots a game for either player?"
   ]
  },
  {
   "cell_type": "code",
   "execution_count": 66,
   "metadata": {
    "collapsed": false
   },
   "outputs": [
    {
     "name": "stdout",
     "output_type": "stream",
     "text": [
      "The probability of player A making 9 shots in an average game is 22.4%.\n",
      "\n",
      "The probability of player B making 9 shots in an average game is 13.4%.\n"
     ]
    }
   ],
   "source": [
    "k = 9\n",
    "\n",
    "comb_A = sc.comb(n_A, k)\n",
    "comb_B = sc.comb(n_B, k)\n",
    "\n",
    "answer_A = 100 * comb_A * (p_A**k) * ((1-p_A)**(n_A-k))\n",
    "answer_B = 100 * comb_B * (p_B**k) * ((1-p_B)**(n_B-k))\n",
    "\n",
    "print('The probability of player A ' \n",
    "      'making 9 shots in an average game is {}%.\\n'.format(round(answer_A, 1)))\n",
    "\n",
    "print('The probability of player B ' \n",
    "      'making 9 shots in an average game is {}%.'.format(round(answer_B, 1)))"
   ]
  },
  {
   "cell_type": "markdown",
   "metadata": {},
   "source": [
    "Now we see that player's A ability level \n",
    "    gives better odds of making exactly 9 shots.\n",
    "   \n",
    "We need to keep in mind \n",
    "    that we are asking about the probability of making\n",
    "        exactly those amount of shots."
   ]
  },
  {
   "cell_type": "markdown",
   "metadata": {},
   "source": [
    "#### Let's investigate the mean and standard seviation for the binomial distribution."
   ]
  },
  {
   "cell_type": "markdown",
   "metadata": {},
   "source": [
    "The mean of a binomial distribution is simply:"
   ]
  },
  {
   "cell_type": "markdown",
   "metadata": {},
   "source": [
    "$$\n",
    "\\mu = n * p\n",
    "$$"
   ]
  },
  {
   "cell_type": "markdown",
   "metadata": {},
   "source": [
    "This intuitively makes sense:\n",
    "    the average number of successes should be \n",
    "        the total trials multiplied by your average success rate. "
   ]
  },
  {
   "cell_type": "markdown",
   "metadata": {},
   "source": [
    "Similarly we can see that standard deviation of a binomical is:"
   ]
  },
  {
   "cell_type": "markdown",
   "metadata": {},
   "source": [
    "$$\n",
    "\\sigma = \\sqrt{n * q * p}\n",
    "$$"
   ]
  },
  {
   "cell_type": "markdown",
   "metadata": {},
   "source": [
    "So now we can ask, \n",
    "    whats the average number of shots each player \n",
    "        will make in a game +/- a standard distribution?"
   ]
  },
  {
   "cell_type": "code",
   "execution_count": 74,
   "metadata": {
    "collapsed": false
   },
   "outputs": [
    {
     "name": "stdout",
     "output_type": "stream",
     "text": [
      "Player A will make an average of 8 +/- 1 shots per game.\n",
      "\n",
      "Player B will make an average of 7 +/- 2 shots per game.\n"
     ]
    }
   ],
   "source": [
    "mu_A = n_A * p_A\n",
    "mu_B = n_B * p_B\n",
    "\n",
    "sigma_A = (n_A * p_A * (1 - p_A)) ** 0.5\n",
    "sigma_B = (n_B * p_B * (1 - p_B)) ** 0.5\n",
    "\n",
    "print('Player A will make an average of {} +/- {} shots '\n",
    "      'per game.\\n'.format(round(mu_A), round(sigma_A)))\n",
    "\n",
    "print('Player B will make an average of {} +/- {} shots ' \n",
    "      'per game.'.format(round(mu_B), round(sigma_B)))"
   ]
  },
  {
   "cell_type": "markdown",
   "metadata": {},
   "source": [
    "#### Let's see how to automatically make a binomial distribution:"
   ]
  },
  {
   "cell_type": "code",
   "execution_count": 85,
   "metadata": {
    "collapsed": false
   },
   "outputs": [
    {
     "name": "stdout",
     "output_type": "stream",
     "text": [
      "Mean is 7.92;\n",
      "Stand dev is 1.4891608375189027\n"
     ]
    }
   ],
   "source": [
    "from scipy.stats import binom\n",
    "\n",
    "mean, var = binom.stats(n_A, p_A)\n",
    "\n",
    "print('Mean is ' + str(mean) + ';\\n' + 'Stand dev is '+ str(var**0.5))"
   ]
  },
  {
   "cell_type": "markdown",
   "metadata": {},
   "source": [
    "#### We can also get the probability mass function:"
   ]
  },
  {
   "cell_type": "markdown",
   "metadata": {},
   "source": [
    "Let's try another example.\n",
    "\n",
    "Imagine you flip a fair coin. Prob of success is p = 0.5.\n",
    "\n",
    "What does probabilty mass function look like for 10 coin flips?"
   ]
  },
  {
   "cell_type": "code",
   "execution_count": 91,
   "metadata": {
    "collapsed": false
   },
   "outputs": [
    {
     "data": {
      "text/plain": [
       "array([0.00097656, 0.00976563, 0.04394531, 0.1171875 , 0.20507813,\n",
       "       0.24609375, 0.20507813, 0.1171875 , 0.04394531, 0.00976563,\n",
       "       0.00097656])"
      ]
     },
     "execution_count": 91,
     "metadata": {},
     "output_type": "execute_result"
    }
   ],
   "source": [
    "import numpy as np\n",
    "\n",
    "n = 10 \n",
    "p = 0.5\n",
    "\n",
    "x = range(n+1)\n",
    "\n",
    "Y = binom.pmf(x, n, p) # create the prob mass func\n",
    "\n",
    "Y"
   ]
  },
  {
   "cell_type": "markdown",
   "metadata": {},
   "source": [
    "#### Finally, let's plot the binomial distribution to get the fill picture:"
   ]
  },
  {
   "cell_type": "code",
   "execution_count": 93,
   "metadata": {
    "collapsed": false
   },
   "outputs": [
    {
     "data": {
      "text/plain": [
       "Text(0, 0.5, 'Probability')"
      ]
     },
     "execution_count": 93,
     "metadata": {},
     "output_type": "execute_result"
    },
    {
     "data": {
      "image/png": "[encoded data removed]",
      "text/plain": [
       "<Figure size 432x288 with 1 Axes>"
      ]
     },
     "metadata": {},
     "output_type": "display_data"
    }
   ],
   "source": [
    "import matplotlib.pyplot as plt\n",
    "\n",
    "plt.plot(x, Y, 'o')\n",
    "\n",
    "plt.title('Binomial Distribution PMF: '\n",
    "          '10 coin Flips, Odd of Success for Heads is p=0.5', y=1.08)\n",
    "\n",
    "plt.xlabel('Number of Heads')\n",
    "plt.ylabel('Probability')"
   ]
  }
 ],
 "metadata": {
  "anaconda-cloud": {},
  "kernelspec": {
   "display_name": "Python [default]",
   "language": "python",
   "name": "python3"
  },
  "language_info": {
   "codemirror_mode": {
    "name": "ipython",
    "version": 3
   },
   "file_extension": ".py",
   "mimetype": "text/x-python",
   "name": "python",
   "nbconvert_exporter": "python",
   "pygments_lexer": "ipython3",
   "version": "3.5.2"
  }
 },
 "nbformat": 4,
 "nbformat_minor": 1
}
